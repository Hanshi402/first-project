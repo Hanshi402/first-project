{
 "cells": [
  {
   "cell_type": "code",
   "execution_count": 1,
   "id": "b989634b",
   "metadata": {},
   "outputs": [
    {
     "name": "stdout",
     "output_type": "stream",
     "text": [
      "Hello World\n"
     ]
    }
   ],
   "source": [
    "#W2A1\n",
    "print(\"Hello World\")"
   ]
  },
  {
   "cell_type": "code",
   "execution_count": 2,
   "id": "2caa28bb",
   "metadata": {},
   "outputs": [
    {
     "name": "stdout",
     "output_type": "stream",
     "text": [
      "vts\n"
     ]
    }
   ],
   "source": [
    "#W2A2\n",
    "a = input(\"Nhập tên người dùng:\")\n",
    "print(a)"
   ]
  },
  {
   "cell_type": "code",
   "execution_count": 4,
   "id": "b5ad226a",
   "metadata": {},
   "outputs": [
    {
     "name": "stdout",
     "output_type": "stream",
     "text": [
      "Tổng hai số là: 8\n",
      "Hiệu hai số là: 2\n",
      "Tích hai số là: 15\n",
      "Phần nguyên của thương hai số là: 1\n",
      "Phần dư của thương hai số là: 2\n",
      "Thương hai số là: 1.67\n"
     ]
    }
   ],
   "source": [
    "#W2A3\n",
    "a=int(input(\"Nhập số a:\"))\n",
    "b=int(input(\"Nhập số b:\"))\n",
    "print(\"Tổng hai số là:\",a+b)\n",
    "print(\"Hiệu hai số là:\",a-b)\n",
    "print(\"Tích hai số là:\",a*b)\n",
    "print(\"Phần nguyên của thương hai số là:\",a//b)\n",
    "print(\"Phần dư của thương hai số là:\",a%b)\n",
    "print(\"Thương hai số là:\",round(a/b,2))"
   ]
  },
  {
   "cell_type": "code",
   "execution_count": 8,
   "id": "c57e1412",
   "metadata": {},
   "outputs": [
    {
     "name": "stdout",
     "output_type": "stream",
     "text": [
      "Điểm trung bình môn học của 6 môn học là: 4.2\n"
     ]
    }
   ],
   "source": [
    "#W2A4\n",
    "a1,b1,c1,a2,b2,a3 = map(float, input(\"Nhập điểm của 6 môn học:\").split())\n",
    "S = ((a1+b1+c1)+(a2+b2)*2+a3*3)/10\n",
    "print(\"Điểm trung bình môn học của 6 môn học là:\", f'{S:.1f}')"
   ]
  },
  {
   "cell_type": "code",
   "execution_count": 3,
   "id": "88fa081d",
   "metadata": {},
   "outputs": [
    {
     "name": "stdout",
     "output_type": "stream",
     "text": [
      "5 mũ 3 là: 125\n"
     ]
    }
   ],
   "source": [
    "#W2A5\n",
    "a, b = map(int, input(\"Nhập hai số a và b:\").split())\n",
    "c = a ** b\n",
    "print(f\"{a} mũ {b} là: {c}\")"
   ]
  },
  {
   "cell_type": "code",
   "execution_count": 10,
   "id": "9e79115e",
   "metadata": {},
   "outputs": [
    {
     "name": "stdout",
     "output_type": "stream",
     "text": [
      "A\n"
     ]
    }
   ],
   "source": [
    "#W2A6\n",
    "x = input(\"Nhập kí tự:\")\n",
    "print(chr(ord(x)-ord('a')+ord('A')))"
   ]
  },
  {
   "cell_type": "code",
   "execution_count": 21,
   "id": "29661e21",
   "metadata": {},
   "outputs": [
    {
     "name": "stdout",
     "output_type": "stream",
     "text": [
      "512\n",
      "512\n"
     ]
    }
   ],
   "source": [
    "#W2A7\n",
    "A = ((13 ** 2) * 3) + 5\n",
    "B = 13**2*3 + 5\n",
    "print(A,B,sep='\\n')"
   ]
  },
  {
   "cell_type": "code",
   "execution_count": 24,
   "id": "f432b170",
   "metadata": {},
   "outputs": [
    {
     "name": "stdout",
     "output_type": "stream",
     "text": [
      "Độ Fahrenheit: 96.80\n"
     ]
    }
   ],
   "source": [
    "#W2A8\n",
    "C = float(input(\"Nhiệt độ Celsius:\"))\n",
    "F = 9/5*C + 32\n",
    "print(\"Độ Fahrenheit:\", f'{F:.2f}')"
   ]
  },
  {
   "cell_type": "code",
   "execution_count": 25,
   "id": "18cb1fff",
   "metadata": {},
   "outputs": [
    {
     "name": "stdout",
     "output_type": "stream",
     "text": [
      "Tổng số tiền Đạt phải trả để mua chiếc đồng hồ là: 568.60\n"
     ]
    }
   ],
   "source": [
    "#w2A9\n",
    "x = float(input(\"Giá của đồng hồ :\"))\n",
    "s = x + x*10/100 + x*30/100 +10\n",
    "print(\"Tổng số tiền Đạt phải trả để mua chiếc đồng hồ là:\", f'{s:.2f}')"
   ]
  },
  {
   "cell_type": "code",
   "execution_count": null,
   "id": "47356a04",
   "metadata": {},
   "outputs": [],
   "source": [
    "#W2A10\n",
    "x=input(\"Nhập tên người thứ nhất:\")\n",
    "y=input(\"Nhập tên người thứ hai:\")\n",
    "z=input(\"Nhập tên người thứ ba:\")\n",
    "print(f\"Hi {z}, {y} and {x}.\")"
   ]
  },
  {
   "cell_type": "code",
   "execution_count": null,
   "id": "ea59880a",
   "metadata": {},
   "outputs": [
    {
     "name": "stdout",
     "output_type": "stream",
     "text": [
      "Số giây là: 9960\n"
     ]
    }
   ],
   "source": [
    "#W2A11\n",
    "h = int(input(\"Nhập số giờ:\"))\n",
    "m = int(input(\"Nhập số phút:\"))\n",
    "print(f\"Số giây là: {h*3600 + m*60}\")"
   ]
  },
  {
   "cell_type": "code",
   "execution_count": 28,
   "id": "b4e526a8",
   "metadata": {},
   "outputs": [
    {
     "name": "stdout",
     "output_type": "stream",
     "text": [
      "Số miếng dán riêng lẻ cần để bao phủ khối Rubik là 54\n"
     ]
    }
   ],
   "source": [
    "#W2A12\n",
    "n = int(input(\"Nhập độ dài cạnh của Rubik :\"))\n",
    "print(f\"Số miếng dán riêng lẻ cần để bao phủ khối Rubik là {6*n**2}\")"
   ]
  },
  {
   "cell_type": "code",
   "execution_count": 30,
   "id": "2aec06b1",
   "metadata": {},
   "outputs": [
    {
     "name": "stdout",
     "output_type": "stream",
     "text": [
      "Chữ số hàng đơn vị của tích giữa a và b là 0\n"
     ]
    }
   ],
   "source": [
    "#W2A13\n",
    "a, b = map(int, input(\"Nhập hai số nguyên dương a và b :\").split())\n",
    "print(f\"Chữ số hàng đơn vị của tích giữa a và b là {a*b%10}\")"
   ]
  },
  {
   "cell_type": "code",
   "execution_count": 33,
   "id": "0f42ef46",
   "metadata": {},
   "outputs": [
    {
     "name": "stdout",
     "output_type": "stream",
     "text": [
      "a = 5, b = 3\n"
     ]
    }
   ],
   "source": [
    "#W2A14\n",
    "a, b = map(int, input(\"Nhập hai số a và b :\").split())\n",
    "print(f\"a = {b}, b = {a}\")"
   ]
  },
  {
   "cell_type": "code",
   "execution_count": 43,
   "id": "3cde0a9e",
   "metadata": {},
   "outputs": [
    {
     "name": "stdout",
     "output_type": "stream",
     "text": [
      "Số sao thứ n : 121\n"
     ]
    }
   ],
   "source": [
    "#W2A15\n",
    "n = int(input(\"Nhập số nguyên dương n:\"))\n",
    "print(f\"Số sao thứ n : {n*6*(n-1)+1}\")"
   ]
  },
  {
   "cell_type": "code",
   "execution_count": 37,
   "id": "26d0e0fc",
   "metadata": {},
   "outputs": [
    {
     "name": "stdout",
     "output_type": "stream",
     "text": [
      "Spring\n",
      "Summer\n",
      "Autumn\n",
      "Winter\n"
     ]
    }
   ],
   "source": [
    "#W2A16\n",
    "print(\"Spring\", \"Summer\", \"Autumn\", \"Winter\", sep=\"\\n\")"
   ]
  },
  {
   "cell_type": "code",
   "execution_count": null,
   "id": "30fa9c4e",
   "metadata": {},
   "outputs": [
    {
     "name": "stdout",
     "output_type": "stream",
     "text": [
      "*\n",
      "***\n",
      "*****\n"
     ]
    }
   ],
   "source": [
    "#W2A17\n",
    "print(\"*\\n***\\n*****\")"
   ]
  },
  {
   "cell_type": "code",
   "execution_count": null,
   "id": "37f97052",
   "metadata": {},
   "outputs": [
    {
     "name": "stdout",
     "output_type": "stream",
     "text": [
      "### # #  ### ### \n",
      " #  #  #  #   # \n",
      " #  #   # #   # \n",
      " #  #  #  #   #\n",
      " #  # #   #   # \n"
     ]
    }
   ],
   "source": [
    "#W2A18\n",
    "print(\"### # #  ### ### \\n #  #  #  #   # \\n #  #   # #   # \\n #  #  #  #   #\\n #  # #   #   # \")"
   ]
  },
  {
   "cell_type": "code",
   "execution_count": null,
   "id": "16aca8fa",
   "metadata": {},
   "outputs": [
    {
     "name": "stdout",
     "output_type": "stream",
     "text": [
      "Monday\n",
      "Tuesday\n",
      "Wednesday\n",
      "Thursday\n",
      "Friday\n",
      "Saturday\n",
      "Sunday\n"
     ]
    }
   ],
   "source": [
    "#W2A19\n",
    "print(\"Monday\",\"Tuesday\",\"Wednesday\",\"Thursday\",\"Friday\",\"Saturday\",\"Sunday\", sep=\"\\n\")"
   ]
  },
  {
   "cell_type": "code",
   "execution_count": 2,
   "id": "78feffb1",
   "metadata": {},
   "outputs": [
    {
     "name": "stdout",
     "output_type": "stream",
     "text": [
      "January\n",
      "February\n",
      "March\n",
      "April\n",
      "May\n",
      "June\n",
      "July\n",
      "August\n",
      "September\n",
      "October\n",
      "November\n",
      "December\n"
     ]
    }
   ],
   "source": [
    "#W2A20\n",
    "print(\"January\",\"February\", \"March\", \"April\", \"May\", \"June\", \"July\", \"August\", \"September\", \"October\", \"November\", \"December\", sep=\"\\n\")"
   ]
  },
  {
   "cell_type": "code",
   "execution_count": 3,
   "id": "47f9518d",
   "metadata": {},
   "outputs": [
    {
     "name": "stdout",
     "output_type": "stream",
     "text": [
      "Hello, World\n",
      "Hello, World\n",
      "Hello, World\n",
      "Hello, World\n",
      "Hello, World\n",
      "Hello, World\n",
      "Hello, World\n",
      "Hello, World\n",
      "Hello, World\n",
      "Hello, World\n"
     ]
    }
   ],
   "source": [
    "#W2A21\n",
    "x = \"Hello, World\"\n",
    "for i in range (10):\n",
    "    print(x)"
   ]
  }
 ],
 "metadata": {
  "kernelspec": {
   "display_name": "Python 3",
   "language": "python",
   "name": "python3"
  },
  "language_info": {
   "codemirror_mode": {
    "name": "ipython",
    "version": 3
   },
   "file_extension": ".py",
   "mimetype": "text/x-python",
   "name": "python",
   "nbconvert_exporter": "python",
   "pygments_lexer": "ipython3",
   "version": "3.13.7"
  }
 },
 "nbformat": 4,
 "nbformat_minor": 5
}
