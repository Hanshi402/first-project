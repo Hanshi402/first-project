{
 "cells": [
  {
   "cell_type": "code",
   "execution_count": 3,
   "id": "88f6e441-28cd-46e2-85e9-4f6b97d0059b",
   "metadata": {},
   "outputs": [
    {
     "name": "stdout",
     "output_type": "stream",
     "text": [
      "9.0\n"
     ]
    }
   ],
   "source": [
    "a, b, c, d, e = map(float, input().split())\n",
    "x = [a, b, c, d, e]\n",
    "max_x =x[0]\n",
    "for i in x:\n",
    "    if i > max_x:\n",
    "        max_x = i\n",
    "print(max_x)"
   ]
  },
  {
   "cell_type": "code",
   "execution_count": 4,
   "id": "e6b1447c",
   "metadata": {},
   "outputs": [
    {
     "name": "stdout",
     "output_type": "stream",
     "text": [
      "True\n"
     ]
    }
   ],
   "source": [
    "print(6>4)"
   ]
  }
 ],
 "metadata": {
  "kernelspec": {
   "display_name": "Python 3",
   "language": "python",
   "name": "python3"
  },
  "language_info": {
   "codemirror_mode": {
    "name": "ipython",
    "version": 3
   },
   "file_extension": ".py",
   "mimetype": "text/x-python",
   "name": "python",
   "nbconvert_exporter": "python",
   "pygments_lexer": "ipython3",
   "version": "3.13.7"
  }
 },
 "nbformat": 4,
 "nbformat_minor": 5
}
