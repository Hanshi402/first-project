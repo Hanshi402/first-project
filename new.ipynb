{
 "cells": [
  {
   "cell_type": "code",
   "execution_count": null,
   "id": "43f34f70",
   "metadata": {},
   "outputs": [],
   "source": [
    "a, b = input()"
   ]
  }
 ],
 "metadata": {
  "language_info": {
   "name": "python"
  }
 },
 "nbformat": 4,
 "nbformat_minor": 5
}
